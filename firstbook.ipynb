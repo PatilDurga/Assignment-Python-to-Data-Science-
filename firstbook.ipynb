{
 "cells": [
  {
   "cell_type": "code",
   "execution_count": 6,
   "metadata": {},
   "outputs": [
    {
     "name": "stdout",
     "output_type": "stream",
     "text": [
      "[[1 2 3 4 5]\n",
      " [2 3 4 5 6]\n",
      " [4 5 6 7 8]]\n"
     ]
    },
    {
     "data": {
      "text/plain": [
       "array([[4, 5, 6],\n",
       "       [6, 7, 8]])"
      ]
     },
     "execution_count": 6,
     "metadata": {},
     "output_type": "execute_result"
    }
   ],
   "source": [
    "#assignment 1 Day 3\n",
    "import numpy as np\n",
    "list1=[1,2,3,4,5]\n",
    "list2=[2,3,4,5,6]\n",
    "list3=[4,5,6,7,8]\n",
    "arr=np.array([list1,list2,list3])\n",
    "print(arr)\n",
    "arr[1:,2:5]"
   ]
  },
  {
   "cell_type": "code",
   "execution_count": 23,
   "metadata": {},
   "outputs": [
    {
     "name": "stdout",
     "output_type": "stream",
     "text": [
      "          A         B         C         D\n",
      "0  0.210287  0.405730 -0.256015  0.706557\n",
      "1  1.472817 -0.836370 -1.890765 -0.346267\n",
      "2 -0.880165 -1.241861  0.679949  0.106962\n",
      "3 -0.370945  0.428241 -0.516937 -0.617100\n",
      "4 -0.043569  0.641372 -0.791958  1.382008\n",
      "<class 'pandas.core.frame.DataFrame'>\n",
      "RangeIndex: 5 entries, 0 to 4\n",
      "Data columns (total 4 columns):\n",
      " #   Column  Non-Null Count  Dtype  \n",
      "---  ------  --------------  -----  \n",
      " 0   A       5 non-null      float64\n",
      " 1   B       5 non-null      float64\n",
      " 2   C       5 non-null      float64\n",
      " 3   D       5 non-null      float64\n",
      "dtypes: float64(4)\n",
      "memory usage: 288.0 bytes\n",
      "\n",
      "Opertaion-1\n",
      "          A         B         C         D\n",
      "0  0.210287  0.405730 -0.256015  0.706557\n",
      "1  1.472817 -0.836370 -1.890765 -0.346267\n",
      "2 -0.880165 -1.241861  0.679949  0.106962\n",
      "3 -0.370945  0.428241 -0.516937 -0.617100\n",
      "4 -0.043569  0.641372 -0.791958  1.382008\n",
      "\n",
      "Opertaion-2\n",
      "       A      B      C      D\n",
      "0  False  False  False  False\n",
      "1  False  False  False  False\n",
      "2  False  False  False  False\n",
      "3  False  False  False  False\n",
      "4  False  False  False  False\n",
      "\n",
      "Opertaion-3\n",
      " 0.210287    1\n",
      " 1.472817    1\n",
      "-0.880165    1\n",
      "-0.370945    1\n",
      "-0.043569    1\n",
      "Name: A, dtype: int64\n",
      "\n",
      "Opertaion-4\n",
      "[-0.25601544 -1.89076545  0.67994919 -0.51693748 -0.79195776]\n",
      "\n",
      "Opertaion-5\n",
      "None\n",
      "\n",
      "Opertaion-6\n",
      "              A         B         C         D\n",
      "count  5.000000  5.000000  5.000000  5.000000\n",
      "mean   0.077685 -0.120578 -0.555145  0.246432\n",
      "std    0.879975  0.855629  0.929564  0.808962\n",
      "min   -0.880165 -1.241861 -1.890765 -0.617100\n",
      "25%   -0.370945 -0.836370 -0.791958 -0.346267\n",
      "50%   -0.043569  0.405730 -0.516937  0.106962\n",
      "75%    0.210287  0.428241 -0.256015  0.706557\n",
      "max    1.472817  0.641372  0.679949  1.382008\n"
     ]
    }
   ],
   "source": [
    "#assignment 2\n",
    "import pandas as pd\n",
    "import numpy as np\n",
    "df = pd.DataFrame(np.random.randn(5, 4),columns=list('ABCD'))\n",
    "print(df)\n",
    "operation1=df.head()\n",
    "operation2=df.isnull()\n",
    "operation3=df['A'].value_counts()\n",
    "operation4=df['C'].unique()\n",
    "operation5=df.info()\n",
    "operation6=df.describe()\n",
    "print(\"\\nOpertaion-1\")\n",
    "print(operation1)\n",
    "print(\"\\nOpertaion-2\")\n",
    "print(operation2)\n",
    "print(\"\\nOpertaion-3\")\n",
    "print(operation3)\n",
    "print(\"\\nOpertaion-4\")\n",
    "print(operation4)\n",
    "print(\"\\nOpertaion-5\")\n",
    "print(operation5)\n",
    "print(\"\\nOpertaion-6\")\n",
    "print(operation6)\n"
   ]
  },
  {
   "cell_type": "code",
   "execution_count": null,
   "metadata": {},
   "outputs": [],
   "source": []
  },
  {
   "cell_type": "code",
   "execution_count": null,
   "metadata": {},
   "outputs": [],
   "source": []
  },
  {
   "cell_type": "code",
   "execution_count": null,
   "metadata": {},
   "outputs": [],
   "source": []
  }
 ],
 "metadata": {
  "kernelspec": {
   "display_name": "Python 3 (ipykernel)",
   "language": "python",
   "name": "python3"
  },
  "language_info": {
   "codemirror_mode": {
    "name": "ipython",
    "version": 3
   },
   "file_extension": ".py",
   "mimetype": "text/x-python",
   "name": "python",
   "nbconvert_exporter": "python",
   "pygments_lexer": "ipython3",
   "version": "3.8.10"
  }
 },
 "nbformat": 4,
 "nbformat_minor": 4
}
